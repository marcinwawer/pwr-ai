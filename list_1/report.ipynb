{
 "cells": [
  {
   "cell_type": "code",
   "execution_count": null,
   "metadata": {},
   "outputs": [],
   "source": [
    "from datetime import datetime\n",
    "import pandas as pd\n",
    "\n",
    "import Graph_algorithms.a_star as a_star\n",
    "import Graph_algorithms.graph_loader as loader\n",
    "import Graph_algorithms.dijkstra as dijkstra\n",
    "import Utilities.formatter as formatter\n",
    "\n",
    "pd.options.display.float_format = '{:.2f}'.format"
   ]
  },
  {
   "cell_type": "code",
   "execution_count": null,
   "metadata": {},
   "outputs": [],
   "source": [
    "graph_time = loader.load_weighted_graph(criterion='time')\n",
    "graph_changes = loader.load_weighted_graph(criterion='change')\n",
    "\n",
    "stop_coords = a_star.load_stop_coords()"
   ]
  },
  {
   "cell_type": "code",
   "execution_count": null,
   "metadata": {},
   "outputs": [],
   "source": [
    "for conn in graph_time[\"Muchobór Wielki\"]:\n",
    "    print(\"Departure:\", conn[\"departure_time\"], \"Arrival:\", conn[\"arrival_time\"], \"Line:\", conn[\"line\"])"
   ]
  },
  {
   "cell_type": "code",
   "execution_count": null,
   "metadata": {},
   "outputs": [],
   "source": [
    "start_time = datetime.strptime(\"23:38:00\", \"%H:%M:%S\")\n",
    "total_cost, path, run_time = dijkstra.dijkstra_min_time(graph_time, \"Kowale (Stacja kolejowa)\", \"Kochanowskiego\", start_time)\n",
    "\n",
    "df = formatter.format_schedule_df(path, criterion=\"time\", start_time=start_time)  \n",
    "print(df.to_string(index=False))\n",
    "\n",
    "print(\"\\n\\n\\n\")\n",
    "\n",
    "data = {\n",
    "    \"metric\": [\"TOTAL COST\", \"RUN TIME\"],\n",
    "    \"value\": [total_cost, run_time]\n",
    "}\n",
    "df_summary = pd.DataFrame(data)\n",
    "print(df_summary.to_string(index=False))"
   ]
  },
  {
   "cell_type": "code",
   "execution_count": null,
   "metadata": {},
   "outputs": [],
   "source": [
    "start_time = datetime.strptime(\"23:08:00\", \"%H:%M:%S\")\n",
    "total_cost, path, run_time = a_star.a_star_min_time(graph_time, stop_coords, \"Muchobór Wielki\", \"Mroźna\", start_time, max_speed=15)\n",
    "\n",
    "df = formatter.format_schedule_df(path, criterion=\"time\", start_time=start_time)  \n",
    "print(df.to_string(index=False))\n",
    "\n",
    "print(\"\\n\\n\\n\")\n",
    "\n",
    "data = {\n",
    "    \"metric\": [\"TOTAL COST\", \"RUN TIME\"],\n",
    "    \"value\": [total_cost, run_time]\n",
    "}\n",
    "df_summary = pd.DataFrame(data)\n",
    "print(df_summary.to_string(index=False))"
   ]
  },
  {
   "cell_type": "code",
   "execution_count": null,
   "metadata": {},
   "outputs": [],
   "source": [
    "start_time = datetime.strptime(\"08:00:00\", \"%H:%M:%S\")\n",
    "total_cost, path, run_time = a_star.a_star_min_changes(graph_changes, \"Muchobór Wielki\", \"Mroźna\",  start_time)\n",
    "\n",
    "df = formatter.format_schedule_df(path, criterion=\"change\", start_time=start_time)  \n",
    "print(df.to_string(index=False))\n",
    "\n",
    "print(\"\\n\\n\\n\")\n",
    "\n",
    "data = {\n",
    "    \"metric\": [\"TOTAL COST\", \"RUN TIME\"],\n",
    "    \"value\": [total_cost, run_time]\n",
    "}\n",
    "df_summary = pd.DataFrame(data)\n",
    "print(df_summary.to_string(index=False))"
   ]
  }
 ],
 "metadata": {
  "kernelspec": {
   "display_name": ".venv",
   "language": "python",
   "name": "python3"
  },
  "language_info": {
   "codemirror_mode": {
    "name": "ipython",
    "version": 3
   },
   "file_extension": ".py",
   "mimetype": "text/x-python",
   "name": "python",
   "nbconvert_exporter": "python",
   "pygments_lexer": "ipython3",
   "version": "3.13.1"
  }
 },
 "nbformat": 4,
 "nbformat_minor": 2
}
